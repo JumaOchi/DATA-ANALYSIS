{
 "cells": [
  {
   "cell_type": "code",
   "execution_count": 1,
   "metadata": {},
   "outputs": [
    {
     "name": "stdout",
     "output_type": "stream",
     "text": [
      "   order_id  product_id  inventory_level delivery_route  delivery_time  \\\n",
      "0         1          39              476        Route_B       1.121344   \n",
      "1         2          29              388        Route_B       5.577694   \n",
      "2         3          15              536        Route_D       6.294786   \n",
      "3         4          43              761        Route_C       1.211115   \n",
      "4         5           8              376        Route_C       3.857945   \n",
      "\n",
      "   cost_per_delivery  demand_forecast  actual_sales  \n",
      "0         113.361327              513    454.500872  \n",
      "1         330.086139              162    132.319272  \n",
      "2         401.594835              320    302.546606  \n",
      "3         310.234280              212    177.960791  \n",
      "4         116.133219              509    430.914890  \n"
     ]
    }
   ],
   "source": [
    "#DATA SIMULATION \n",
    "import pandas as pd\n",
    "import numpy as np\n",
    "\n",
    "# Parameters\n",
    "n_orders = 1000\n",
    "n_products = 50\n",
    "n_routes = 10\n",
    "\n",
    "# Simulate data\n",
    "np.random.seed(42)  # For reproducibility\n",
    "\n",
    "# Create columns\n",
    "order_ids = np.arange(1, n_orders + 1)\n",
    "product_ids = np.random.randint(1, n_products + 1, size=n_orders)\n",
    "inventory_levels = np.random.randint(100, 1000, size=n_orders)  # Inventory levels\n",
    "delivery_routes = np.random.choice(['Route_A', 'Route_B', 'Route_C', 'Route_D'], size=n_orders)\n",
    "delivery_times = np.random.uniform(1, 12, size=n_orders)  # Hours to deliver\n",
    "cost_per_delivery = np.random.uniform(50, 500, size=n_orders)  # Delivery costs\n",
    "demand_forecast = np.random.randint(50, 1000, size=n_orders)\n",
    "actual_sales = demand_forecast * np.random.uniform(0.8, 1.2, size=n_orders)  # Simulating actual sales close to forecast\n",
    "\n",
    "# Create DataFrame\n",
    "supply_chain_data = pd.DataFrame({\n",
    "    'order_id': order_ids,\n",
    "    'product_id': product_ids,\n",
    "    'inventory_level': inventory_levels,\n",
    "    'delivery_route': delivery_routes,\n",
    "    'delivery_time': delivery_times,\n",
    "    'cost_per_delivery': cost_per_delivery,\n",
    "    'demand_forecast': demand_forecast,\n",
    "    'actual_sales': actual_sales\n",
    "})\n",
    "\n",
    "# Show first few rows\n",
    "print(supply_chain_data.head())\n"
   ]
  },
  {
   "cell_type": "code",
   "execution_count": 2,
   "metadata": {},
   "outputs": [
    {
     "name": "stdout",
     "output_type": "stream",
     "text": [
      "<class 'pandas.core.frame.DataFrame'>\n",
      "RangeIndex: 1000 entries, 0 to 999\n",
      "Data columns (total 8 columns):\n",
      " #   Column             Non-Null Count  Dtype  \n",
      "---  ------             --------------  -----  \n",
      " 0   order_id           1000 non-null   int64  \n",
      " 1   product_id         1000 non-null   int32  \n",
      " 2   inventory_level    1000 non-null   int32  \n",
      " 3   delivery_route     1000 non-null   object \n",
      " 4   delivery_time      1000 non-null   float64\n",
      " 5   cost_per_delivery  1000 non-null   float64\n",
      " 6   demand_forecast    1000 non-null   int32  \n",
      " 7   actual_sales       1000 non-null   float64\n",
      "dtypes: float64(3), int32(3), int64(1), object(1)\n",
      "memory usage: 50.9+ KB\n"
     ]
    }
   ],
   "source": [
    "supply_chain_data.info()"
   ]
  },
  {
   "cell_type": "code",
   "execution_count": 5,
   "metadata": {},
   "outputs": [
    {
     "data": {
      "text/plain": [
       "np.int64(0)"
      ]
     },
     "execution_count": 5,
     "metadata": {},
     "output_type": "execute_result"
    }
   ],
   "source": [
    "#EDA WE FIRST CHECK FOR MISSING VALUES, DUPLICATES ETC\n",
    "#checking for missing values\n",
    "supply_chain_data.isna().any(axis=1).sum()"
   ]
  },
  {
   "cell_type": "code",
   "execution_count": 8,
   "metadata": {},
   "outputs": [
    {
     "data": {
      "text/plain": [
       "np.int64(0)"
      ]
     },
     "execution_count": 8,
     "metadata": {},
     "output_type": "execute_result"
    }
   ],
   "source": [
    "#check for and drop any duplicates\n",
    "supply_chain_data.duplicated().any().sum()"
   ]
  },
  {
   "cell_type": "code",
   "execution_count": 9,
   "metadata": {},
   "outputs": [
    {
     "data": {
      "text/html": [
       "<div>\n",
       "<style scoped>\n",
       "    .dataframe tbody tr th:only-of-type {\n",
       "        vertical-align: middle;\n",
       "    }\n",
       "\n",
       "    .dataframe tbody tr th {\n",
       "        vertical-align: top;\n",
       "    }\n",
       "\n",
       "    .dataframe thead th {\n",
       "        text-align: right;\n",
       "    }\n",
       "</style>\n",
       "<table border=\"1\" class=\"dataframe\">\n",
       "  <thead>\n",
       "    <tr style=\"text-align: right;\">\n",
       "      <th></th>\n",
       "      <th>order_id</th>\n",
       "      <th>product_id</th>\n",
       "      <th>inventory_level</th>\n",
       "      <th>delivery_time</th>\n",
       "      <th>cost_per_delivery</th>\n",
       "      <th>demand_forecast</th>\n",
       "      <th>actual_sales</th>\n",
       "    </tr>\n",
       "  </thead>\n",
       "  <tbody>\n",
       "    <tr>\n",
       "      <th>count</th>\n",
       "      <td>1000.000000</td>\n",
       "      <td>1000.000000</td>\n",
       "      <td>1000.000000</td>\n",
       "      <td>1000.000000</td>\n",
       "      <td>1000.000000</td>\n",
       "      <td>1000.00000</td>\n",
       "      <td>1000.000000</td>\n",
       "    </tr>\n",
       "    <tr>\n",
       "      <th>mean</th>\n",
       "      <td>500.500000</td>\n",
       "      <td>25.830000</td>\n",
       "      <td>542.508000</td>\n",
       "      <td>6.465661</td>\n",
       "      <td>274.899006</td>\n",
       "      <td>541.83500</td>\n",
       "      <td>538.751650</td>\n",
       "    </tr>\n",
       "    <tr>\n",
       "      <th>std</th>\n",
       "      <td>288.819436</td>\n",
       "      <td>14.346809</td>\n",
       "      <td>263.685931</td>\n",
       "      <td>3.172583</td>\n",
       "      <td>129.766628</td>\n",
       "      <td>276.34013</td>\n",
       "      <td>281.337065</td>\n",
       "    </tr>\n",
       "    <tr>\n",
       "      <th>min</th>\n",
       "      <td>1.000000</td>\n",
       "      <td>1.000000</td>\n",
       "      <td>100.000000</td>\n",
       "      <td>1.001482</td>\n",
       "      <td>50.005236</td>\n",
       "      <td>53.00000</td>\n",
       "      <td>44.478225</td>\n",
       "    </tr>\n",
       "    <tr>\n",
       "      <th>25%</th>\n",
       "      <td>250.750000</td>\n",
       "      <td>14.000000</td>\n",
       "      <td>321.000000</td>\n",
       "      <td>3.856630</td>\n",
       "      <td>161.377208</td>\n",
       "      <td>298.75000</td>\n",
       "      <td>300.293562</td>\n",
       "    </tr>\n",
       "    <tr>\n",
       "      <th>50%</th>\n",
       "      <td>500.500000</td>\n",
       "      <td>26.000000</td>\n",
       "      <td>537.500000</td>\n",
       "      <td>6.462361</td>\n",
       "      <td>276.296836</td>\n",
       "      <td>541.00000</td>\n",
       "      <td>537.319787</td>\n",
       "    </tr>\n",
       "    <tr>\n",
       "      <th>75%</th>\n",
       "      <td>750.250000</td>\n",
       "      <td>37.000000</td>\n",
       "      <td>771.250000</td>\n",
       "      <td>9.235596</td>\n",
       "      <td>387.676281</td>\n",
       "      <td>786.25000</td>\n",
       "      <td>769.979822</td>\n",
       "    </tr>\n",
       "    <tr>\n",
       "      <th>max</th>\n",
       "      <td>1000.000000</td>\n",
       "      <td>50.000000</td>\n",
       "      <td>998.000000</td>\n",
       "      <td>11.981823</td>\n",
       "      <td>499.800966</td>\n",
       "      <td>999.00000</td>\n",
       "      <td>1167.215829</td>\n",
       "    </tr>\n",
       "  </tbody>\n",
       "</table>\n",
       "</div>"
      ],
      "text/plain": [
       "          order_id   product_id  inventory_level  delivery_time  \\\n",
       "count  1000.000000  1000.000000      1000.000000    1000.000000   \n",
       "mean    500.500000    25.830000       542.508000       6.465661   \n",
       "std     288.819436    14.346809       263.685931       3.172583   \n",
       "min       1.000000     1.000000       100.000000       1.001482   \n",
       "25%     250.750000    14.000000       321.000000       3.856630   \n",
       "50%     500.500000    26.000000       537.500000       6.462361   \n",
       "75%     750.250000    37.000000       771.250000       9.235596   \n",
       "max    1000.000000    50.000000       998.000000      11.981823   \n",
       "\n",
       "       cost_per_delivery  demand_forecast  actual_sales  \n",
       "count        1000.000000       1000.00000   1000.000000  \n",
       "mean          274.899006        541.83500    538.751650  \n",
       "std           129.766628        276.34013    281.337065  \n",
       "min            50.005236         53.00000     44.478225  \n",
       "25%           161.377208        298.75000    300.293562  \n",
       "50%           276.296836        541.00000    537.319787  \n",
       "75%           387.676281        786.25000    769.979822  \n",
       "max           499.800966        999.00000   1167.215829  "
      ]
     },
     "execution_count": 9,
     "metadata": {},
     "output_type": "execute_result"
    }
   ],
   "source": [
    "#Descriptive Statistics\n",
    "supply_chain_data.describe()"
   ]
  },
  {
   "cell_type": "code",
   "execution_count": 10,
   "metadata": {},
   "outputs": [
    {
     "data": {
      "image/png": "[encoded data removed]",
      "text/plain": [
       "<Figure size 640x480 with 1 Axes>"
      ]
     },
     "metadata": {},
     "output_type": "display_data"
    }
   ],
   "source": [
    "#FEATURE ENGINEERING\n",
    "\n",
    "# Create new feature: delivery delay\n",
    "supply_chain_data['delivery_delay'] = supply_chain_data['delivery_time'] - supply_chain_data['delivery_time'].mean()\n",
    "\n",
    "# Create new feature: demand_gap (difference between forecast and actual sales)\n",
    "supply_chain_data['demand_gap'] = supply_chain_data['actual_sales'] - supply_chain_data['demand_forecast']\n",
    "\n",
    "# Filter out negative values\n",
    "supply_chain_data = supply_chain_data[supply_chain_data['demand_gap'] >= 0]\n",
    "\n",
    "# Visualize the data (delivery time distribution)\n",
    "import matplotlib.pyplot as plt\n",
    "\n",
    "plt.hist(supply_chain_data['delivery_time'], bins=20)\n",
    "plt.title('Distribution of Delivery Times')\n",
    "plt.xlabel('Delivery Time (hours)')\n",
    "plt.ylabel('Frequency')\n",
    "plt.show()\n"
   ]
  }
 ],
 "metadata": {
  "kernelspec": {
   "display_name": "Python 3",
   "language": "python",
   "name": "python3"
  },
  "language_info": {
   "codemirror_mode": {
    "name": "ipython",
    "version": 3
   },
   "file_extension": ".py",
   "mimetype": "text/x-python",
   "name": "python",
   "nbconvert_exporter": "python",
   "pygments_lexer": "ipython3",
   "version": "3.9.13"
  }
 },
 "nbformat": 4,
 "nbformat_minor": 2
}
